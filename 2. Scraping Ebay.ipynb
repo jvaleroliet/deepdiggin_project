{
 "cells": [
  {
   "cell_type": "markdown",
   "metadata": {},
   "source": [
    "# Vinyl Grade\n"
   ]
  },
  {
   "cell_type": "markdown",
   "metadata": {},
   "source": [
    "## Scraping Ebay\n",
    "Now that we have a bunch of urls from ebay, let's scrap them in search of the audio and the vinyl condition label."
   ]
  },
  {
   "cell_type": "code",
   "execution_count": 1,
   "metadata": {},
   "outputs": [],
   "source": [
    "import pandas as pd\n",
    "from time import sleep\n",
    "import os\n",
    "import requests\n",
    "from selenium.webdriver.common.by import By\n",
    "from selenium.webdriver.firefox.options import Options\n",
    "from selenium import webdriver\n",
    "from selenium.webdriver.support.ui import WebDriverWait\n",
    "from selenium.webdriver.support import expected_conditions as EC\n",
    "\n"
   ]
  },
  {
   "cell_type": "markdown",
   "metadata": {},
   "source": [
    "Let's import the dataset we created scraping  watchcount."
   ]
  },
  {
   "cell_type": "code",
   "execution_count": 2,
   "metadata": {},
   "outputs": [],
   "source": [
    "wills = pd.read_csv(\"./output/wills.csv\")"
   ]
  },
  {
   "cell_type": "code",
   "execution_count": 3,
   "metadata": {},
   "outputs": [
    {
     "data": {
      "text/html": [
       "<div>\n",
       "<style scoped>\n",
       "    .dataframe tbody tr th:only-of-type {\n",
       "        vertical-align: middle;\n",
       "    }\n",
       "\n",
       "    .dataframe tbody tr th {\n",
       "        vertical-align: top;\n",
       "    }\n",
       "\n",
       "    .dataframe thead th {\n",
       "        text-align: right;\n",
       "    }\n",
       "</style>\n",
       "<table border=\"1\" class=\"dataframe\">\n",
       "  <thead>\n",
       "    <tr style=\"text-align: right;\">\n",
       "      <th></th>\n",
       "      <th>Link</th>\n",
       "      <th>Title</th>\n",
       "    </tr>\n",
       "  </thead>\n",
       "  <tbody>\n",
       "    <tr>\n",
       "      <th>0</th>\n",
       "      <td>http://www.watchcount.com/go/?item=11623035299...</td>\n",
       "      <td>Ahmed al-Jaberi - Rare SUDAN Arabic Afro 45 / ...</td>\n",
       "    </tr>\n",
       "    <tr>\n",
       "      <th>1</th>\n",
       "      <td>http://www.watchcount.com/go/?item=11623035299...</td>\n",
       "      <td>Ahmed al-Jaberi - Rare SUDAN Arabic Afro 45 / ...</td>\n",
       "    </tr>\n",
       "    <tr>\n",
       "      <th>2</th>\n",
       "      <td>http://www.watchcount.com/go/?item=11623035039...</td>\n",
       "      <td>Mohamed Mirghani - Rare SUDAN Arabic Afro 45 /...</td>\n",
       "    </tr>\n",
       "    <tr>\n",
       "      <th>3</th>\n",
       "      <td>http://www.watchcount.com/go/?item=11623034962...</td>\n",
       "      <td>Tayeb Abdullah ? - Rare SUDAN Arabic Afro 45 /...</td>\n",
       "    </tr>\n",
       "    <tr>\n",
       "      <th>4</th>\n",
       "      <td>http://www.watchcount.com/go/?item=11623034725...</td>\n",
       "      <td>Ibrahim Awad - Ya Zaman - Rare SUDAN Arabic Af...</td>\n",
       "    </tr>\n",
       "  </tbody>\n",
       "</table>\n",
       "</div>"
      ],
      "text/plain": [
       "                                                Link  \\\n",
       "0  http://www.watchcount.com/go/?item=11623035299...   \n",
       "1  http://www.watchcount.com/go/?item=11623035299...   \n",
       "2  http://www.watchcount.com/go/?item=11623035039...   \n",
       "3  http://www.watchcount.com/go/?item=11623034962...   \n",
       "4  http://www.watchcount.com/go/?item=11623034725...   \n",
       "\n",
       "                                               Title  \n",
       "0  Ahmed al-Jaberi - Rare SUDAN Arabic Afro 45 / ...  \n",
       "1  Ahmed al-Jaberi - Rare SUDAN Arabic Afro 45 / ...  \n",
       "2  Mohamed Mirghani - Rare SUDAN Arabic Afro 45 /...  \n",
       "3  Tayeb Abdullah ? - Rare SUDAN Arabic Afro 45 /...  \n",
       "4  Ibrahim Awad - Ya Zaman - Rare SUDAN Arabic Af...  "
      ]
     },
     "execution_count": 3,
     "metadata": {},
     "output_type": "execute_result"
    }
   ],
   "source": [
    "wills.head()"
   ]
  },
  {
   "cell_type": "markdown",
   "metadata": {},
   "source": [
    "Let's create new column *condition*, empty, where we'll storage the string where the user stores the label. We'll have to clean manually after."
   ]
  },
  {
   "cell_type": "code",
   "execution_count": 4,
   "metadata": {},
   "outputs": [],
   "source": [
    "wills[\"condition\"] = \"\""
   ]
  },
  {
   "cell_type": "code",
   "execution_count": 5,
   "metadata": {},
   "outputs": [
    {
     "data": {
      "text/plain": [
       "378"
      ]
     },
     "execution_count": 5,
     "metadata": {},
     "output_type": "execute_result"
    }
   ],
   "source": [
    "len(wills)"
   ]
  },
  {
   "cell_type": "markdown",
   "metadata": {},
   "source": [
    "Let's run selenium headless"
   ]
  },
  {
   "cell_type": "code",
   "execution_count": 6,
   "metadata": {},
   "outputs": [],
   "source": [
    "options = Options()\n",
    "\n",
    "options.add_argument(\"-headless\") "
   ]
  },
  {
   "cell_type": "code",
   "execution_count": 9,
   "metadata": {},
   "outputs": [],
   "source": [
    "i=0\n",
    "save_directory = \"./output/audio/raw\""
   ]
  },
  {
   "cell_type": "markdown",
   "metadata": {},
   "source": [
    "It's time to iterate over the dataframe. We searched for the audio and label parts inspecting the webpages with Firefox and reported here the xpath patterns."
   ]
  },
  {
   "cell_type": "code",
   "execution_count": 10,
   "metadata": {},
   "outputs": [
    {
     "name": "stdout",
     "output_type": "stream",
     "text": [
      "0\n",
      "http://www.watchcount.com/go/?item=116230352998&cid=1721069927-CL-0-1---wills-rare-records-\n",
      "Error: Message: Element <button id=\"gdpr-banner-accept\"> could not be scrolled into view\n",
      "Stacktrace:\n",
      "RemoteError@chrome://remote/content/shared/RemoteError.sys.mjs:8:8\n",
      "WebDriverError@chrome://remote/content/shared/webdriver/Errors.sys.mjs:193:5\n",
      "ElementNotInteractableError@chrome://remote/content/shared/webdriver/Errors.sys.mjs:353:5\n",
      "webdriverClickElement@chrome://remote/content/marionette/interaction.sys.mjs:167:11\n",
      "interaction.clickElement@chrome://remote/content/marionette/interaction.sys.mjs:136:11\n",
      "clickElement@chrome://remote/content/marionette/actors/MarionetteCommandsChild.sys.mjs:205:29\n",
      "receiveMessage@chrome://remote/content/marionette/actors/MarionetteCommandsChild.sys.mjs:85:31\n",
      "\n",
      "No MP3 sources found on the page.\n"
     ]
    }
   ],
   "source": [
    "# Initialize Firefox WebDriver\n",
    "driver = webdriver.Firefox(options=options)\n",
    "\n",
    "# Iterate over the dataframe\n",
    "for link in wills[\"Link\"].tolist():\n",
    "    try:\n",
    "        driver.get(link)\n",
    "        if i==0:\n",
    "            # Wait for the GDPR banner accept button to be clickable\n",
    "            accept_button = WebDriverWait(driver, 10).until(\n",
    "                EC.element_to_be_clickable((By.ID, \"gdpr-banner-accept\"))\n",
    "            )\n",
    "            \n",
    "            # Scroll to the accept button\n",
    "            driver.execute_script(\"arguments[0].scrollIntoView();\", accept_button)\n",
    "            \n",
    "            # Click the accept button\n",
    "            accept_button.click()\n",
    "            \n",
    "        # Switch to the iframe with the description\n",
    "        driver.switch_to.frame(\"desc_ifr\")\n",
    "        \n",
    "        # Wait for the element containing the vinyl condition text to be present\n",
    "        condition_element = WebDriverWait(driver, 10).until(\n",
    "            EC.presence_of_element_located((By.XPATH, \"//*[contains(text(), 'Vinyl condition')]\"))\n",
    "        )\n",
    "        condition_text = driver.find_elements(By.XPATH,\"//*[contains(text(), 'Vinyl condition')]\")[1].get_attribute(\"text\").split(\"condition\")[1].split(\"/span>\")[0]\n",
    "\n",
    "        \n",
    "        # Assign the condition to the DataFrame\n",
    "        wills.loc[i, \"condition\"] = condition_text\n",
    "        \n",
    "        # Find all <source> elements on the page\n",
    "        source_elements = driver.find_elements(By.TAG_NAME, \"source\")\n",
    "\n",
    "        # Filter out the <source> elements with the \"audio/mpeg\" type\n",
    "        mp3_sources = [source.get_attribute(\"src\") for source in source_elements if source.get_attribute(\"type\") == \"audio/mpeg\"]\n",
    "\n",
    "        # If there are MP3 sources, select the first one\n",
    "        if mp3_sources:\n",
    "            mp3_source_url = mp3_sources[0]\n",
    "            \n",
    "            \n",
    "            # Download the MP3 file\n",
    "            mp3_filename = os.path.basename(mp3_source_url)\n",
    "            mp3_save_path = os.path.join(save_directory, mp3_filename)\n",
    "            with open(mp3_save_path, \"wb\") as f:\n",
    "                f.write(requests.get(mp3_source_url).content)\n",
    "\n",
    "            # Save the MP3 file path in the DataFrame\n",
    "            wills.loc[i, \"mp3_path\"] = mp3_save_path\n",
    "        else:\n",
    "            print(\"No MP3 sources found on the page.\")\n",
    "        \n",
    "        i += 1\n",
    "        # Update the dataframe\n",
    "        wills.to_csv(\"./output/wills_audio.csv\")\n",
    "        # Wait\n",
    "        sleep(1)\n",
    "\n",
    "    except Exception as e:\n",
    "        print(i)\n",
    "        print(link)\n",
    "        print(\"Error:\", e)\n",
    "        i+=1\n",
    "\n"
   ]
  },
  {
   "cell_type": "markdown",
   "metadata": {},
   "source": [
    "Completed! Only one audio missing. Let's close the driver."
   ]
  },
  {
   "cell_type": "code",
   "execution_count": 11,
   "metadata": {},
   "outputs": [],
   "source": [
    "driver.quit()"
   ]
  }
 ],
 "metadata": {
  "kernelspec": {
   "display_name": "vinyl_grade",
   "language": "python",
   "name": "python3"
  },
  "language_info": {
   "codemirror_mode": {
    "name": "ipython",
    "version": 3
   },
   "file_extension": ".py",
   "mimetype": "text/x-python",
   "name": "python",
   "nbconvert_exporter": "python",
   "pygments_lexer": "ipython3",
   "version": "3.12.4"
  }
 },
 "nbformat": 4,
 "nbformat_minor": 2
}
