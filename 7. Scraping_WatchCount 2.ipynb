{
 "cells": [
  {
   "cell_type": "markdown",
   "metadata": {},
   "source": [
    "# Vinyl Grade\n"
   ]
  },
  {
   "cell_type": "markdown",
   "metadata": {},
   "source": [
    "## Dataset Creation"
   ]
  },
  {
   "cell_type": "markdown",
   "metadata": {},
   "source": [
    "## Scraping more users\n",
    "### samy1917"
   ]
  },
  {
   "cell_type": "code",
   "execution_count": 1,
   "metadata": {},
   "outputs": [],
   "source": [
    "import pandas as pd\n",
    "from selenium import webdriver"
   ]
  },
  {
   "cell_type": "code",
   "execution_count": 9,
   "metadata": {},
   "outputs": [],
   "source": [
    "from bs4 import BeautifulSoup\n",
    "import requests\n",
    "driver = webdriver.Firefox()\n",
    "# visit your target site\n",
    "from selenium.webdriver.common.by import By"
   ]
  },
  {
   "cell_type": "code",
   "execution_count": 10,
   "metadata": {},
   "outputs": [],
   "source": [
    "url = \"http://www.watchcount.com/completed.php?bfw=1&bslr=samy1917\"\n",
    "driver.get(url)\n",
    "\n"
   ]
  },
  {
   "cell_type": "code",
   "execution_count": 11,
   "metadata": {},
   "outputs": [],
   "source": [
    "df_links = pd.DataFrame(columns=[\"Link\",\"Title\"])"
   ]
  },
  {
   "cell_type": "code",
   "execution_count": 12,
   "metadata": {},
   "outputs": [
    {
     "data": {
      "text/html": [
       "<div>\n",
       "<style scoped>\n",
       "    .dataframe tbody tr th:only-of-type {\n",
       "        vertical-align: middle;\n",
       "    }\n",
       "\n",
       "    .dataframe tbody tr th {\n",
       "        vertical-align: top;\n",
       "    }\n",
       "\n",
       "    .dataframe thead th {\n",
       "        text-align: right;\n",
       "    }\n",
       "</style>\n",
       "<table border=\"1\" class=\"dataframe\">\n",
       "  <thead>\n",
       "    <tr style=\"text-align: right;\">\n",
       "      <th></th>\n",
       "      <th>Link</th>\n",
       "      <th>Title</th>\n",
       "    </tr>\n",
       "  </thead>\n",
       "  <tbody>\n",
       "  </tbody>\n",
       "</table>\n",
       "</div>"
      ],
      "text/plain": [
       "Empty DataFrame\n",
       "Columns: [Link, Title]\n",
       "Index: []"
      ]
     },
     "execution_count": 12,
     "metadata": {},
     "output_type": "execute_result"
    }
   ],
   "source": [
    "df_links"
   ]
  },
  {
   "cell_type": "code",
   "execution_count": 16,
   "metadata": {},
   "outputs": [],
   "source": [
    "table = driver.find_element(By.XPATH, \"/html/body/div/table/tbody/tr[3]/td/table/tbody/tr/td[2]/div/table[2]/tbody/tr[2]/td/div/table[1]\")\n",
    "\n",
    "# Find all rows within the table\n",
    "rows = table.find_elements(By.TAG_NAME, \"tr\")\n",
    "\n",
    "# Loop through each row\n",
    "for row in rows:\n",
    "    # Find all link elements within the row\n",
    "    links = row.find_elements(By.TAG_NAME, \"a\")\n",
    "    # bids = row.find_elements(By.XPATH, \"//a[@title='See eBay Auction Bid History...']\")[0].get_atribute(\"text\")\n",
    "    #print(bids)\n",
    "    # Loop through each link element\n",
    "    if len(links)==11:\n",
    "\n",
    "    # Extract the URL from the href attribute\n",
    "        url = links[1].get_attribute(\"href\")\n",
    "        text = links[1].get_attribute(\"text\")\n",
    "        \n",
    "        df_links.loc[len(df_links)] = [url, text]\n",
    "        # # Print or store the URL as needed\n",
    "    # break\n",
    "driver.quit()"
   ]
  },
  {
   "cell_type": "code",
   "execution_count": 17,
   "metadata": {},
   "outputs": [
    {
     "data": {
      "text/html": [
       "<div>\n",
       "<style scoped>\n",
       "    .dataframe tbody tr th:only-of-type {\n",
       "        vertical-align: middle;\n",
       "    }\n",
       "\n",
       "    .dataframe tbody tr th {\n",
       "        vertical-align: top;\n",
       "    }\n",
       "\n",
       "    .dataframe thead th {\n",
       "        text-align: right;\n",
       "    }\n",
       "</style>\n",
       "<table border=\"1\" class=\"dataframe\">\n",
       "  <thead>\n",
       "    <tr style=\"text-align: right;\">\n",
       "      <th></th>\n",
       "      <th>Link</th>\n",
       "      <th>Title</th>\n",
       "    </tr>\n",
       "  </thead>\n",
       "  <tbody>\n",
       "    <tr>\n",
       "      <th>0</th>\n",
       "      <td>http://www.watchcount.com/go/?item=15620642560...</td>\n",
       "      <td>HARRY AND THE ATOMS - WORKING FOR NOTHING WHIT...</td>\n",
       "    </tr>\n",
       "    <tr>\n",
       "      <th>1</th>\n",
       "      <td>http://www.watchcount.com/go/?item=15620642560...</td>\n",
       "      <td>HARRY AND THE ATOMS - WORKING FOR NOTHING WHIT...</td>\n",
       "    </tr>\n",
       "    <tr>\n",
       "      <th>2</th>\n",
       "      <td>http://www.watchcount.com/go/?item=15620477902...</td>\n",
       "      <td>DARRYL RAYNER STEVE - LET THE GOOD STONES ROLL...</td>\n",
       "    </tr>\n",
       "    <tr>\n",
       "      <th>3</th>\n",
       "      <td>http://www.watchcount.com/go/?item=15620356093...</td>\n",
       "      <td>BETTY EVERETT - THE SHOOP SHOOP SONG STATESIDE...</td>\n",
       "    </tr>\n",
       "    <tr>\n",
       "      <th>4</th>\n",
       "      <td>http://www.watchcount.com/go/?item=15619661463...</td>\n",
       "      <td>PRINCE BUSTER - AL CAPONE BLUE BEAT BB 324 SKA...</td>\n",
       "    </tr>\n",
       "    <tr>\n",
       "      <th>...</th>\n",
       "      <td>...</td>\n",
       "      <td>...</td>\n",
       "    </tr>\n",
       "    <tr>\n",
       "      <th>66</th>\n",
       "      <td>http://www.watchcount.com/go/?item=15608375365...</td>\n",
       "      <td>HERBIE HANCOCK - EMPYREAN ISLES BLUE NOTE 4175...</td>\n",
       "    </tr>\n",
       "    <tr>\n",
       "      <th>67</th>\n",
       "      <td>http://www.watchcount.com/go/?item=15607711382...</td>\n",
       "      <td>TUXEDOMOON - SCREAM WITH A VIEW EP PRE 7 12</td>\n",
       "    </tr>\n",
       "    <tr>\n",
       "      <th>68</th>\n",
       "      <td>http://www.watchcount.com/go/?item=15607530193...</td>\n",
       "      <td>SIBELIUS GINETTE NEVEU - VIOLIN CONCERTO HMV A...</td>\n",
       "    </tr>\n",
       "    <tr>\n",
       "      <th>69</th>\n",
       "      <td>http://www.watchcount.com/go/?item=15607513356...</td>\n",
       "      <td>THE OVERLANDERS - YESTERDAYS GONE PYE 7N.15619...</td>\n",
       "    </tr>\n",
       "    <tr>\n",
       "      <th>70</th>\n",
       "      <td>http://www.watchcount.com/go/?item=15606296859...</td>\n",
       "      <td>THE SHADOWS - ON STAGE AND SCREEN COLUMBIA SEG...</td>\n",
       "    </tr>\n",
       "  </tbody>\n",
       "</table>\n",
       "<p>71 rows × 2 columns</p>\n",
       "</div>"
      ],
      "text/plain": [
       "                                                 Link  \\\n",
       "0   http://www.watchcount.com/go/?item=15620642560...   \n",
       "1   http://www.watchcount.com/go/?item=15620642560...   \n",
       "2   http://www.watchcount.com/go/?item=15620477902...   \n",
       "3   http://www.watchcount.com/go/?item=15620356093...   \n",
       "4   http://www.watchcount.com/go/?item=15619661463...   \n",
       "..                                                ...   \n",
       "66  http://www.watchcount.com/go/?item=15608375365...   \n",
       "67  http://www.watchcount.com/go/?item=15607711382...   \n",
       "68  http://www.watchcount.com/go/?item=15607530193...   \n",
       "69  http://www.watchcount.com/go/?item=15607513356...   \n",
       "70  http://www.watchcount.com/go/?item=15606296859...   \n",
       "\n",
       "                                                Title  \n",
       "0   HARRY AND THE ATOMS - WORKING FOR NOTHING WHIT...  \n",
       "1   HARRY AND THE ATOMS - WORKING FOR NOTHING WHIT...  \n",
       "2   DARRYL RAYNER STEVE - LET THE GOOD STONES ROLL...  \n",
       "3   BETTY EVERETT - THE SHOOP SHOOP SONG STATESIDE...  \n",
       "4   PRINCE BUSTER - AL CAPONE BLUE BEAT BB 324 SKA...  \n",
       "..                                                ...  \n",
       "66  HERBIE HANCOCK - EMPYREAN ISLES BLUE NOTE 4175...  \n",
       "67        TUXEDOMOON - SCREAM WITH A VIEW EP PRE 7 12  \n",
       "68  SIBELIUS GINETTE NEVEU - VIOLIN CONCERTO HMV A...  \n",
       "69  THE OVERLANDERS - YESTERDAYS GONE PYE 7N.15619...  \n",
       "70  THE SHADOWS - ON STAGE AND SCREEN COLUMBIA SEG...  \n",
       "\n",
       "[71 rows x 2 columns]"
      ]
     },
     "execution_count": 17,
     "metadata": {},
     "output_type": "execute_result"
    }
   ],
   "source": [
    "df_links"
   ]
  },
  {
   "cell_type": "code",
   "execution_count": 18,
   "metadata": {},
   "outputs": [],
   "source": [
    "df_links.to_csv(\"./output/samy.csv\", index = False)"
   ]
  },
  {
   "cell_type": "markdown",
   "metadata": {},
   "source": [
    "### rhythmkingrecords_dot_com"
   ]
  },
  {
   "cell_type": "code",
   "execution_count": 91,
   "metadata": {},
   "outputs": [],
   "source": [
    "\n",
    "\n",
    "df_links = pd.DataFrame(columns=[\"Link\",\"Title\"])"
   ]
  },
  {
   "cell_type": "code",
   "execution_count": 21,
   "metadata": {},
   "outputs": [
    {
     "name": "stdout",
     "output_type": "stream",
     "text": [
      "1\n",
      "2\n"
     ]
    }
   ],
   "source": [
    "for i in range(1,3):\n",
    "    driver = webdriver.Firefox()\n",
    "    url = \"http://www.watchcount.com/completed.php?bfw=1&bslr=rhythmkingrecords_dot_com\".format(i)\n",
    "    driver.get(url)\n",
    "    table = driver.find_element(By.XPATH, \"/html/body/div/table/tbody/tr[3]/td/table/tbody/tr/td[2]/div/table[2]/tbody/tr[2]/td/div/table[1]\")\n",
    "\n",
    "    # Find all rows within the table\n",
    "    rows = table.find_elements(By.TAG_NAME, \"tr\")\n",
    "\n",
    "    # Loop through each row\n",
    "    print(i)\n",
    "    for row in rows:\n",
    "        try:\n",
    "            # Find all link elements within the row\n",
    "            links = row.find_elements(By.TAG_NAME, \"a\")\n",
    "            \n",
    "            # Loop through each link element\n",
    "            if len(links)==11:\n",
    "\n",
    "            # Extract the URL from the href attribute\n",
    "                url = links[1].get_attribute(\"href\")\n",
    "                text = links[1].get_attribute(\"text\")\n",
    "                df_links.loc[len(df_links)] = [url, text]\n",
    "                # # Print or store the URL as needed\n",
    "        except:\n",
    "            print(row)\n",
    "    driver.quit()"
   ]
  },
  {
   "cell_type": "code",
   "execution_count": 22,
   "metadata": {},
   "outputs": [
    {
     "data": {
      "text/html": [
       "<div>\n",
       "<style scoped>\n",
       "    .dataframe tbody tr th:only-of-type {\n",
       "        vertical-align: middle;\n",
       "    }\n",
       "\n",
       "    .dataframe tbody tr th {\n",
       "        vertical-align: top;\n",
       "    }\n",
       "\n",
       "    .dataframe thead th {\n",
       "        text-align: right;\n",
       "    }\n",
       "</style>\n",
       "<table border=\"1\" class=\"dataframe\">\n",
       "  <thead>\n",
       "    <tr style=\"text-align: right;\">\n",
       "      <th></th>\n",
       "      <th>Link</th>\n",
       "      <th>Title</th>\n",
       "    </tr>\n",
       "  </thead>\n",
       "  <tbody>\n",
       "    <tr>\n",
       "      <th>0</th>\n",
       "      <td>http://www.watchcount.com/go/?item=15617316628...</td>\n",
       "      <td>✨🎶1978 Lovers Rock -  BROWN SUGAR Confession H...</td>\n",
       "    </tr>\n",
       "    <tr>\n",
       "      <th>1</th>\n",
       "      <td>http://www.watchcount.com/go/?item=15617316628...</td>\n",
       "      <td>1969 NORTHERN SOUL - THE FLIRTATIONS - NOTHING...</td>\n",
       "    </tr>\n",
       "    <tr>\n",
       "      <th>2</th>\n",
       "      <td>http://www.watchcount.com/go/?item=15617316628...</td>\n",
       "      <td>1975 LATIN FUNK NORTHERN MODERN SOUL DISCO - H...</td>\n",
       "    </tr>\n",
       "    <tr>\n",
       "      <th>3</th>\n",
       "      <td>http://www.watchcount.com/go/?item=15617316643...</td>\n",
       "      <td>RARE REGGAE SPOUGE SOUL - YOU SEXY THING - BOO...</td>\n",
       "    </tr>\n",
       "    <tr>\n",
       "      <th>4</th>\n",
       "      <td>http://www.watchcount.com/go/?item=15617316630...</td>\n",
       "      <td>ORIG BOSS REGGAE SKA - COUNTRY ROAD - TOOTS &amp; ...</td>\n",
       "    </tr>\n",
       "    <tr>\n",
       "      <th>...</th>\n",
       "      <td>...</td>\n",
       "      <td>...</td>\n",
       "    </tr>\n",
       "    <tr>\n",
       "      <th>193</th>\n",
       "      <td>http://www.watchcount.com/go/?item=15612164430...</td>\n",
       "      <td>✨🎶 GARAGE FUNK LO-FI BREAKS - La Famille Vince...</td>\n",
       "    </tr>\n",
       "    <tr>\n",
       "      <th>194</th>\n",
       "      <td>http://www.watchcount.com/go/?item=15612160410...</td>\n",
       "      <td>✨🎶 1976 DISCO PSYCH FUNK SOUL  FLY ROBIN FLY -...</td>\n",
       "    </tr>\n",
       "    <tr>\n",
       "      <th>195</th>\n",
       "      <td>http://www.watchcount.com/go/?item=15612158309...</td>\n",
       "      <td>✨🎶 Islands Funk Synth Psych - FREEDOM SUITE - ...</td>\n",
       "    </tr>\n",
       "    <tr>\n",
       "      <th>196</th>\n",
       "      <td>http://www.watchcount.com/go/?item=15612151437...</td>\n",
       "      <td>Rare Boss Reggae - Norma NORA Dean – Love Of A...</td>\n",
       "    </tr>\n",
       "    <tr>\n",
       "      <th>197</th>\n",
       "      <td>http://www.watchcount.com/go/?item=15612147977...</td>\n",
       "      <td>RARE 1969 BOSS REGGAE - LOVING REGGAY - THE MA...</td>\n",
       "    </tr>\n",
       "  </tbody>\n",
       "</table>\n",
       "<p>198 rows × 2 columns</p>\n",
       "</div>"
      ],
      "text/plain": [
       "                                                  Link  \\\n",
       "0    http://www.watchcount.com/go/?item=15617316628...   \n",
       "1    http://www.watchcount.com/go/?item=15617316628...   \n",
       "2    http://www.watchcount.com/go/?item=15617316628...   \n",
       "3    http://www.watchcount.com/go/?item=15617316643...   \n",
       "4    http://www.watchcount.com/go/?item=15617316630...   \n",
       "..                                                 ...   \n",
       "193  http://www.watchcount.com/go/?item=15612164430...   \n",
       "194  http://www.watchcount.com/go/?item=15612160410...   \n",
       "195  http://www.watchcount.com/go/?item=15612158309...   \n",
       "196  http://www.watchcount.com/go/?item=15612151437...   \n",
       "197  http://www.watchcount.com/go/?item=15612147977...   \n",
       "\n",
       "                                                 Title  \n",
       "0    ✨🎶1978 Lovers Rock -  BROWN SUGAR Confession H...  \n",
       "1    1969 NORTHERN SOUL - THE FLIRTATIONS - NOTHING...  \n",
       "2    1975 LATIN FUNK NORTHERN MODERN SOUL DISCO - H...  \n",
       "3    RARE REGGAE SPOUGE SOUL - YOU SEXY THING - BOO...  \n",
       "4    ORIG BOSS REGGAE SKA - COUNTRY ROAD - TOOTS & ...  \n",
       "..                                                 ...  \n",
       "193  ✨🎶 GARAGE FUNK LO-FI BREAKS - La Famille Vince...  \n",
       "194  ✨🎶 1976 DISCO PSYCH FUNK SOUL  FLY ROBIN FLY -...  \n",
       "195  ✨🎶 Islands Funk Synth Psych - FREEDOM SUITE - ...  \n",
       "196  Rare Boss Reggae - Norma NORA Dean – Love Of A...  \n",
       "197  RARE 1969 BOSS REGGAE - LOVING REGGAY - THE MA...  \n",
       "\n",
       "[198 rows x 2 columns]"
      ]
     },
     "execution_count": 22,
     "metadata": {},
     "output_type": "execute_result"
    }
   ],
   "source": [
    "df_links"
   ]
  },
  {
   "cell_type": "code",
   "execution_count": 23,
   "metadata": {},
   "outputs": [],
   "source": [
    "df_links.to_csv(\"./output/rhythmkingrecords_dot_com.csv\", index = False)"
   ]
  },
  {
   "cell_type": "markdown",
   "metadata": {},
   "source": [
    "### dany_the_avenger"
   ]
  },
  {
   "cell_type": "code",
   "execution_count": 90,
   "metadata": {},
   "outputs": [],
   "source": [
    "driver = webdriver.Firefox()\n",
    "url = \"http://www.watchcount.com/completed.php?bfw=1&bslr=don799#serp\"\n",
    "driver.get(url)"
   ]
  },
  {
   "cell_type": "code",
   "execution_count": 95,
   "metadata": {},
   "outputs": [],
   "source": [
    "table = driver.find_element(By.XPATH, \"/html/body/div/table/tbody/tr[3]/td/table/tbody/tr/td[2]/div/table[2]/tbody/tr[2]/td/div/table[1]\")\n",
    "\n",
    "# Find all rows within the table\n",
    "rows = table.find_elements(By.TAG_NAME, \"tr\")\n",
    "\n",
    "# Loop through each row\n",
    "for row in rows:\n",
    "    # Find all link elements within the row\n",
    "    links = row.find_elements(By.TAG_NAME, \"a\")\n",
    "    #bids = row.find_elements(By.XPATH, \"//a[@title='See eBay Auction Bid History...']\")[0].get_atribute(\"text\")\n",
    "    #print(bids)\n",
    "    # Loop through each link element\n",
    "    if len(links)==11:\n",
    "        # Extract the URL from the href attribute\n",
    "        url = links[1].get_attribute(\"href\")\n",
    "        text = links[1].get_attribute(\"text\")\n",
    "\n",
    "        df_links.loc[len(df_links)] = [url, text]\n",
    "            # # Print or store the URL as needed\n",
    "# driver.quit()"
   ]
  },
  {
   "cell_type": "code",
   "execution_count": 96,
   "metadata": {},
   "outputs": [
    {
     "data": {
      "text/html": [
       "<div>\n",
       "<style scoped>\n",
       "    .dataframe tbody tr th:only-of-type {\n",
       "        vertical-align: middle;\n",
       "    }\n",
       "\n",
       "    .dataframe tbody tr th {\n",
       "        vertical-align: top;\n",
       "    }\n",
       "\n",
       "    .dataframe thead th {\n",
       "        text-align: right;\n",
       "    }\n",
       "</style>\n",
       "<table border=\"1\" class=\"dataframe\">\n",
       "  <thead>\n",
       "    <tr style=\"text-align: right;\">\n",
       "      <th></th>\n",
       "      <th>Link</th>\n",
       "      <th>Title</th>\n",
       "    </tr>\n",
       "  </thead>\n",
       "  <tbody>\n",
       "    <tr>\n",
       "      <th>0</th>\n",
       "      <td>http://www.watchcount.com/go/?item=37542036981...</td>\n",
       "      <td>VARIOUS ARTISTS - CLASSIC ROCKERS - LP 1987 MA...</td>\n",
       "    </tr>\n",
       "    <tr>\n",
       "      <th>1</th>\n",
       "      <td>http://www.watchcount.com/go/?item=37542034273...</td>\n",
       "      <td>DELROY WILSON - GO AWAY DREAM LP RARE REGGAE 1...</td>\n",
       "    </tr>\n",
       "    <tr>\n",
       "      <th>2</th>\n",
       "      <td>http://www.watchcount.com/go/?item=37542031625...</td>\n",
       "      <td>EARL CUNNINGHAM - JAIL HOUSE 12'' RARE ROOTS 1...</td>\n",
       "    </tr>\n",
       "    <tr>\n",
       "      <th>3</th>\n",
       "      <td>http://www.watchcount.com/go/?item=37542030446...</td>\n",
       "      <td>BLACK HARMONY - REASONS 12'' LOVERS ROCK 1981 ...</td>\n",
       "    </tr>\n",
       "    <tr>\n",
       "      <th>4</th>\n",
       "      <td>http://www.watchcount.com/go/?item=37542029246...</td>\n",
       "      <td>JOHNNY OSBOURNE - PURIFY YOUR HEART 12'' RARE ...</td>\n",
       "    </tr>\n",
       "    <tr>\n",
       "      <th>...</th>\n",
       "      <td>...</td>\n",
       "      <td>...</td>\n",
       "    </tr>\n",
       "    <tr>\n",
       "      <th>223</th>\n",
       "      <td>http://www.watchcount.com/go/?item=37525460104...</td>\n",
       "      <td>LLOYD AND THE PROPHETS - BUSH BEAT 7'' RARE RE...</td>\n",
       "    </tr>\n",
       "    <tr>\n",
       "      <th>224</th>\n",
       "      <td>http://www.watchcount.com/go/?item=37525449957...</td>\n",
       "      <td>RAY MARTELL - THIS LITTLE LIGHT 7'' RARE REGGA...</td>\n",
       "    </tr>\n",
       "    <tr>\n",
       "      <th>225</th>\n",
       "      <td>http://www.watchcount.com/go/?item=37525448107...</td>\n",
       "      <td>SYMARIP - SKINHEAD MOON STOMP 7'' REGGAE 1969 ...</td>\n",
       "    </tr>\n",
       "    <tr>\n",
       "      <th>226</th>\n",
       "      <td>http://www.watchcount.com/go/?item=37525440499...</td>\n",
       "      <td>EWAN &amp; JERRY - THE RIGHT TRACK 7''  RARE ROCKS...</td>\n",
       "    </tr>\n",
       "    <tr>\n",
       "      <th>227</th>\n",
       "      <td>http://www.watchcount.com/go/?item=37525437276...</td>\n",
       "      <td>E BEDASSE &amp; CHIN'S CALYPSO SEXTET 7'' RARE MEN...</td>\n",
       "    </tr>\n",
       "  </tbody>\n",
       "</table>\n",
       "<p>228 rows × 2 columns</p>\n",
       "</div>"
      ],
      "text/plain": [
       "                                                  Link  \\\n",
       "0    http://www.watchcount.com/go/?item=37542036981...   \n",
       "1    http://www.watchcount.com/go/?item=37542034273...   \n",
       "2    http://www.watchcount.com/go/?item=37542031625...   \n",
       "3    http://www.watchcount.com/go/?item=37542030446...   \n",
       "4    http://www.watchcount.com/go/?item=37542029246...   \n",
       "..                                                 ...   \n",
       "223  http://www.watchcount.com/go/?item=37525460104...   \n",
       "224  http://www.watchcount.com/go/?item=37525449957...   \n",
       "225  http://www.watchcount.com/go/?item=37525448107...   \n",
       "226  http://www.watchcount.com/go/?item=37525440499...   \n",
       "227  http://www.watchcount.com/go/?item=37525437276...   \n",
       "\n",
       "                                                 Title  \n",
       "0    VARIOUS ARTISTS - CLASSIC ROCKERS - LP 1987 MA...  \n",
       "1    DELROY WILSON - GO AWAY DREAM LP RARE REGGAE 1...  \n",
       "2    EARL CUNNINGHAM - JAIL HOUSE 12'' RARE ROOTS 1...  \n",
       "3    BLACK HARMONY - REASONS 12'' LOVERS ROCK 1981 ...  \n",
       "4    JOHNNY OSBOURNE - PURIFY YOUR HEART 12'' RARE ...  \n",
       "..                                                 ...  \n",
       "223  LLOYD AND THE PROPHETS - BUSH BEAT 7'' RARE RE...  \n",
       "224  RAY MARTELL - THIS LITTLE LIGHT 7'' RARE REGGA...  \n",
       "225  SYMARIP - SKINHEAD MOON STOMP 7'' REGGAE 1969 ...  \n",
       "226  EWAN & JERRY - THE RIGHT TRACK 7''  RARE ROCKS...  \n",
       "227  E BEDASSE & CHIN'S CALYPSO SEXTET 7'' RARE MEN...  \n",
       "\n",
       "[228 rows x 2 columns]"
      ]
     },
     "execution_count": 96,
     "metadata": {},
     "output_type": "execute_result"
    }
   ],
   "source": [
    "df_links"
   ]
  },
  {
   "cell_type": "code",
   "execution_count": 97,
   "metadata": {},
   "outputs": [],
   "source": [
    "df_links.to_csv(\"./output/don799.csv\", index=False)"
   ]
  }
 ],
 "metadata": {
  "kernelspec": {
   "display_name": "vinyl_grade",
   "language": "python",
   "name": "python3"
  },
  "language_info": {
   "codemirror_mode": {
    "name": "ipython",
    "version": 3
   },
   "file_extension": ".py",
   "mimetype": "text/x-python",
   "name": "python",
   "nbconvert_exporter": "python",
   "pygments_lexer": "ipython3",
   "version": "3.11.7"
  }
 },
 "nbformat": 4,
 "nbformat_minor": 2
}
